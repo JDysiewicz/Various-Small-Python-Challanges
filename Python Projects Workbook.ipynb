{
 "cells": [
  {
   "cell_type": "markdown",
   "metadata": {},
   "source": [
    "# Various Python Coding Projects\n",
    "## Joshua Dysiewicz \n",
    "---\n",
    "### Someof these are all taken from [this page](https://www.dreamincode.net/forums/topic/78802-martyr2s-mega-project-ideas-list/).\n"
   ]
  },
  {
   "cell_type": "markdown",
   "metadata": {},
   "source": [
    "## Text Based"
   ]
  },
  {
   "cell_type": "markdown",
   "metadata": {},
   "source": [
    "### Project 1: Reverse a String\n",
    "Enter a string and the program will reverse it and print it out."
   ]
  },
  {
   "cell_type": "code",
   "execution_count": 2,
   "metadata": {},
   "outputs": [
    {
     "name": "stdout",
     "output_type": "stream",
     "text": [
      "dlroW ollleH\n"
     ]
    }
   ],
   "source": [
    "def reverse_string(string):\n",
    "    print (string[::-1]) #[begining:end:step] so leaving it blank and going in -1 steps reverses string\n",
    "    \n",
    "reverse_string(\"Helllo World\")"
   ]
  },
  {
   "cell_type": "markdown",
   "metadata": {},
   "source": [
    "### Project 2: Pig Latin\n",
    "Pig Latin is a game of alterations played on the English language game. To create the Pig Latin form of an English word the initial consonant sound is transposed to the end of the word and an ay is affixed (Ex.: \"banana\" would yield anana-bay). Read [Wikipedia](https://en.wikipedia.org/wiki/Pig_Latin) for more information on rules."
   ]
  },
  {
   "cell_type": "code",
   "execution_count": 6,
   "metadata": {},
   "outputs": [
    {
     "name": "stdout",
     "output_type": "stream",
     "text": [
      "anana-bay\n"
     ]
    }
   ],
   "source": [
    "def pig_latin(string):\n",
    "    reworded = string[1:]\n",
    "    ending = \"-\" + str(string[0]) + \"ay\"\n",
    "    print (reworded + ending)\n",
    "\n",
    "pig_latin ('banana')"
   ]
  },
  {
   "cell_type": "markdown",
   "metadata": {},
   "source": [
    "### Project 3: Count Vowels\n",
    "Enter a string and the program counts the number of vowels in the text. For added complexity have it report a sum of each vowel found."
   ]
  },
  {
   "cell_type": "code",
   "execution_count": 24,
   "metadata": {},
   "outputs": [
    {
     "name": "stdout",
     "output_type": "stream",
     "text": [
      "Total Vowels: 2\n",
      "Number of E: 1\n",
      "Number of U: 1\n"
     ]
    }
   ],
   "source": [
    "def count_vowels(string):\n",
    "    number_a = string.casefold().count('a') # Casefold() converts the entire string to lower case to account for capitals\n",
    "    number_e = string.casefold().count('e')\n",
    "    number_i = string.casefold().count('i')\n",
    "    number_o = string.casefold().count('o')\n",
    "    number_u = string.casefold().count('u')\n",
    "    sum_of_vowels = number_a + number_e + number_i + number_o + number_u\n",
    "    print ('Total Vowels: ' + str(sum_of_vowels))\n",
    "    if number_a > 0:\n",
    "        print('Number of A: ' + str(number_a))\n",
    "    if number_e > 0:\n",
    "        print('Number of E: ' + str(number_e))\n",
    "    if number_i > 0:\n",
    "        print('Number of I: ' + str(number_i))\n",
    "    if number_o > 0:\n",
    "        print('Number of O: ' + str(number_o))\n",
    "    if number_u > 0:\n",
    "        print('Number of U: ' + str(number_u))\n",
    "        \n",
    "\n",
    "count_vowels('Ulcer')"
   ]
  },
  {
   "cell_type": "markdown",
   "metadata": {},
   "source": [
    "### Project 4: Check if Palindrome\n",
    "Checks if the string entered by the user is a palindrome. That is that it reads the same forwards as backwards like “racecar”."
   ]
  },
  {
   "cell_type": "code",
   "execution_count": 26,
   "metadata": {},
   "outputs": [
    {
     "name": "stdout",
     "output_type": "stream",
     "text": [
      "rad is NOT a palindrome!\n"
     ]
    }
   ],
   "source": [
    "def palindrome(string):\n",
    "    if string[::1] == string[::-1]:  #Again, use of [::1]/[::-1] to reverse a string\n",
    "        print (str(string) + \" is a palindrome!\")\n",
    "    else:\n",
    "        print (str(string) + \" is NOT a palindrome!\")\n",
    "        \n"
   ]
  },
  {
   "cell_type": "markdown",
   "metadata": {},
   "source": [
    "### Project 5: Count Words in a String\n",
    "Counts the number of individual words in a string. For added complexity read these strings in from a text file and generate a summary."
   ]
  },
  {
   "cell_type": "code",
   "execution_count": 35,
   "metadata": {},
   "outputs": [
    {
     "name": "stdout",
     "output_type": "stream",
     "text": [
      "This string contains 4 words!\n"
     ]
    }
   ],
   "source": [
    "def word_count(string):\n",
    "    if string.endswith('.txt') == True:\n",
    "        f = open(string, 'r')\n",
    "        string = f.read()\n",
    "    words = string.split(' ')\n",
    "    number_of_words = len(words)\n",
    "    print ('This string contains ' + str(number_of_words) + ' words!')\n",
    "\n",
    "word_count('readme.txt')"
   ]
  },
  {
   "cell_type": "markdown",
   "metadata": {},
   "source": [
    "## Codewars Challanges\n",
    "These are my answers to vairous coding challanges I have done on [*Codewars*](https://www.codewars.com)."
   ]
  },
  {
   "cell_type": "markdown",
   "metadata": {},
   "source": [
    "### Challange 1: Duplicate Encoder\n",
    "The goal of this exercise is to convert a string to a new string where each character in the new string is \"(\" if that character appears only once in the original string, or \")\" if that character appears more than once in the original string. Ignore capitalization when determining if a character is a duplicate."
   ]
  },
  {
   "cell_type": "code",
   "execution_count": null,
   "metadata": {},
   "outputs": [],
   "source": [
    "def duplicate_encode(word):\n",
    "    i = 0\n",
    "    value = \"\"\n",
    "    for i in range (0, len(word)):\n",
    "        word = word.casefold()\n",
    "        char = word.count (str(word[i]).casefold())\n",
    "        if char > 1:\n",
    "            value = str(value) + \")\"\n",
    "        else:\n",
    "            value = str(value) + \"(\"\n",
    "        i = i + 1\n",
    "    return value\n"
   ]
  },
  {
   "cell_type": "markdown",
   "metadata": {},
   "source": [
    "### Challange 2: Find the Next Perfect Sqaure\n",
    "You might know some pretty large perfect squares. But what about the NEXT one?\n",
    "\n",
    "Complete the findNextSquare method that finds the next integral perfect square after the one passed as a parameter. Recall that an integral perfect square is an integer n such that sqrt(n) is also an integer.\n",
    "\n",
    "If the parameter is itself not a perfect square, than -1 should be returned. You may assume the parameter is positive."
   ]
  },
  {
   "cell_type": "code",
   "execution_count": null,
   "metadata": {},
   "outputs": [],
   "source": [
    "def find_next_square(sq):\n",
    "    square_root = sq ** 0.5\n",
    "    square_root_integer = int(square_root) # Python rounds down so checking if the rounded sq root is the same as the original\n",
    "    if square_root == square_root_integer:\n",
    "        return (square_root + 1) ** 2   \n",
    "    else:\n",
    "        return -1 #Returns value of -1 if the original square input was not a perfect square"
   ]
  },
  {
   "cell_type": "markdown",
   "metadata": {},
   "source": [
    "### Challange 3: Find the Missing Letter\n",
    "Write a method that takes an array of consecutive (increasing) letters as input and that returns the missing letter in the array.\n",
    "\n",
    "You will always get an valid array. And it will be always exactly one letter be missing. The length of the array will always be at least 2.\n",
    "The array will always contain letters in only one case."
   ]
  },
  {
   "cell_type": "code",
   "execution_count": 42,
   "metadata": {},
   "outputs": [],
   "source": [
    "from string import ascii_letters\n",
    "\n",
    "def find_missing_letter(chars):\n",
    "    start = ascii_letters.index(chars[0])\n",
    "    for chars, match_char in zip(chars, ascii_letters[start:]):\n",
    "        if chars != match_char:\n",
    "            return match_char\n",
    "        "
   ]
  },
  {
   "cell_type": "markdown",
   "metadata": {},
   "source": [
    "### Challange 4: Remove the Minimum\n",
    "The museum of incredible dull things wants to get rid of some exhibitions. Miriam, the interior architect, comes up with a plan to remove the most boring exhibitions. She gives them a rating, and then removes the one with the lowest rating.\n",
    "\n",
    "However, just as she finished rating all exhibitions, she's off to an important fair, so she asks you to write a program that tells her the ratings of the items after one removed the lowest one. Fair enough.\n",
    "Task\n",
    "\n",
    "Given an array of integers, remove the smallest value. **Do not mutate the original array/list.** If there are multiple elements with the same value, remove the one with a lower index. If you get an empty array/list, return an empty array/list.\n",
    "\n",
    "Don't change the order of the elements that are left."
   ]
  },
  {
   "cell_type": "code",
   "execution_count": 40,
   "metadata": {},
   "outputs": [],
   "source": [
    "def remove_smallest(numbers):\n",
    "    array = numbers [:]\n",
    "    try:\n",
    "        array.remove(min(array))\n",
    "        return (array)\n",
    "    except:\n",
    "        return (array)"
   ]
  },
  {
   "cell_type": "markdown",
   "metadata": {},
   "source": [
    "### Challange 5: Build the Tower\n",
    "Build Tower by the following given argument:\n",
    "number of floors (integer and always greater than 0).\n",
    "for example, a tower of 3 floors looks like below\n",
    "\n",
    "\n",
    "  '  *  '    \n",
    "  ' \\*** '    \n",
    "  '\\*****'   "
   ]
  },
  {
   "cell_type": "code",
   "execution_count": null,
   "metadata": {},
   "outputs": [],
   "source": [
    "def tower_builder (n_floors):\n",
    "    lst = []\n",
    "    i = 0\n",
    "    max_value = (n_floors * 2) - 1\n",
    "    for i in range (0, (n_floors), 1):\n",
    "        stars = (i*2) + 1\n",
    "        total_spaces = max_value - stars\n",
    "        seperate_spaces = int(total_spaces / 2)\n",
    "        lst.append((\" \" * seperate_spaces) + (\"*\" * stars) + (\" \" * seperate_spaces))\n",
    "    return (lst)"
   ]
  },
  {
   "cell_type": "markdown",
   "metadata": {},
   "source": [
    "### Challange 6: Title Case\n",
    "Turn a string into title case (for example, 'this is a test' becomes 'This Is A Test')."
   ]
  },
  {
   "cell_type": "code",
   "execution_count": 41,
   "metadata": {},
   "outputs": [],
   "source": [
    "import string\n",
    "def title_case(string):\n",
    "    array = string.capwords(string)\n",
    "    return array"
   ]
  }
 ],
 "metadata": {
  "kernelspec": {
   "display_name": "Python 3",
   "language": "python",
   "name": "python3"
  },
  "language_info": {
   "codemirror_mode": {
    "name": "ipython",
    "version": 3
   },
   "file_extension": ".py",
   "mimetype": "text/x-python",
   "name": "python",
   "nbconvert_exporter": "python",
   "pygments_lexer": "ipython3",
   "version": "3.7.1"
  }
 },
 "nbformat": 4,
 "nbformat_minor": 2
}
